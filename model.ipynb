{
 "cells": [
  {
   "cell_type": "code",
   "execution_count": 1,
   "metadata": {},
   "outputs": [],
   "source": [
    "import tensorflow as tf\n",
    "from tensorflow.keras.models import Sequential\n",
    "from tensorflow.keras.layers import Dense\n",
    "from tensorflow.keras.activations import relu\n",
    "from DataLoader import DataLoader\n",
    "import matplotlib.pyplot as plt\n",
    "\n",
    "import numpy as np"
   ]
  },
  {
   "cell_type": "code",
   "execution_count": 2,
   "metadata": {},
   "outputs": [
    {
     "ename": "EOFError",
     "evalue": "Ran out of input",
     "output_type": "error",
     "traceback": [
      "\u001b[0;31m---------------------------------------------------------------------------\u001b[0m",
      "\u001b[0;31mEOFError\u001b[0m                                  Traceback (most recent call last)",
      "\u001b[1;32m/home/levigibson/Pictures/programming/python/policy-network/model.ipynb Cell 2'\u001b[0m in \u001b[0;36m<cell line: 1>\u001b[0;34m()\u001b[0m\n\u001b[0;32m----> <a href='vscode-notebook-cell:/home/levigibson/Pictures/programming/python/policy-network/model.ipynb#ch0000001?line=0'>1</a>\u001b[0m training_generator \u001b[39m=\u001b[39m DataLoader(\u001b[39m64\u001b[39;49m, \u001b[39m\"\u001b[39;49m\u001b[39mtrain\u001b[39;49m\u001b[39m\"\u001b[39;49m)\n\u001b[1;32m      <a href='vscode-notebook-cell:/home/levigibson/Pictures/programming/python/policy-network/model.ipynb#ch0000001?line=1'>2</a>\u001b[0m val_generator \u001b[39m=\u001b[39m DataLoader(\u001b[39m64\u001b[39m, \u001b[39m\"\u001b[39m\u001b[39mval\u001b[39m\u001b[39m\"\u001b[39m)\n",
      "File \u001b[0;32m~/Pictures/programming/python/policy-network/DataLoader.py:9\u001b[0m, in \u001b[0;36mDataLoader.__init__\u001b[0;34m(self, batch_size, name)\u001b[0m\n\u001b[1;32m      <a href='file:///home/levigibson/Pictures/programming/python/policy-network/DataLoader.py?line=7'>8</a>\u001b[0m \u001b[39mdef\u001b[39;00m \u001b[39m__init__\u001b[39m(\u001b[39mself\u001b[39m, batch_size, name):\n\u001b[0;32m----> <a href='file:///home/levigibson/Pictures/programming/python/policy-network/DataLoader.py?line=8'>9</a>\u001b[0m     \u001b[39mself\u001b[39m\u001b[39m.\u001b[39mlabels \u001b[39m=\u001b[39m np\u001b[39m.\u001b[39;49mload(name \u001b[39m+\u001b[39;49m \u001b[39m\"\u001b[39;49m\u001b[39m_labels.npy\u001b[39;49m\u001b[39m\"\u001b[39;49m, allow_pickle\u001b[39m=\u001b[39;49m\u001b[39mTrue\u001b[39;49;00m)\n\u001b[1;32m     <a href='file:///home/levigibson/Pictures/programming/python/policy-network/DataLoader.py?line=9'>10</a>\u001b[0m     \u001b[39mself\u001b[39m\u001b[39m.\u001b[39mfeatures \u001b[39m=\u001b[39m np\u001b[39m.\u001b[39mload(name \u001b[39m+\u001b[39m \u001b[39m\"\u001b[39m\u001b[39m_features.npy\u001b[39m\u001b[39m\"\u001b[39m, allow_pickle\u001b[39m=\u001b[39m\u001b[39mTrue\u001b[39;00m)\n\u001b[1;32m     <a href='file:///home/levigibson/Pictures/programming/python/policy-network/DataLoader.py?line=10'>11</a>\u001b[0m     \u001b[39mself\u001b[39m\u001b[39m.\u001b[39mbatch_size \u001b[39m=\u001b[39m batch_size\n",
      "File \u001b[0;32m~/.local/lib/python3.8/site-packages/numpy/lib/npyio.py:430\u001b[0m, in \u001b[0;36mload\u001b[0;34m(file, mmap_mode, allow_pickle, fix_imports, encoding)\u001b[0m\n\u001b[1;32m    <a href='file:///home/levigibson/.local/lib/python3.8/site-packages/numpy/lib/npyio.py?line=427'>428</a>\u001b[0m         \u001b[39mreturn\u001b[39;00m \u001b[39mformat\u001b[39m\u001b[39m.\u001b[39mopen_memmap(file, mode\u001b[39m=\u001b[39mmmap_mode)\n\u001b[1;32m    <a href='file:///home/levigibson/.local/lib/python3.8/site-packages/numpy/lib/npyio.py?line=428'>429</a>\u001b[0m     \u001b[39melse\u001b[39;00m:\n\u001b[0;32m--> <a href='file:///home/levigibson/.local/lib/python3.8/site-packages/numpy/lib/npyio.py?line=429'>430</a>\u001b[0m         \u001b[39mreturn\u001b[39;00m \u001b[39mformat\u001b[39;49m\u001b[39m.\u001b[39;49mread_array(fid, allow_pickle\u001b[39m=\u001b[39;49mallow_pickle,\n\u001b[1;32m    <a href='file:///home/levigibson/.local/lib/python3.8/site-packages/numpy/lib/npyio.py?line=430'>431</a>\u001b[0m                                  pickle_kwargs\u001b[39m=\u001b[39;49mpickle_kwargs)\n\u001b[1;32m    <a href='file:///home/levigibson/.local/lib/python3.8/site-packages/numpy/lib/npyio.py?line=431'>432</a>\u001b[0m \u001b[39melse\u001b[39;00m:\n\u001b[1;32m    <a href='file:///home/levigibson/.local/lib/python3.8/site-packages/numpy/lib/npyio.py?line=432'>433</a>\u001b[0m     \u001b[39m# Try a pickle\u001b[39;00m\n\u001b[1;32m    <a href='file:///home/levigibson/.local/lib/python3.8/site-packages/numpy/lib/npyio.py?line=433'>434</a>\u001b[0m     \u001b[39mif\u001b[39;00m \u001b[39mnot\u001b[39;00m allow_pickle:\n",
      "File \u001b[0;32m~/.local/lib/python3.8/site-packages/numpy/lib/format.py:747\u001b[0m, in \u001b[0;36mread_array\u001b[0;34m(fp, allow_pickle, pickle_kwargs)\u001b[0m\n\u001b[1;32m    <a href='file:///home/levigibson/.local/lib/python3.8/site-packages/numpy/lib/format.py?line=744'>745</a>\u001b[0m     pickle_kwargs \u001b[39m=\u001b[39m {}\n\u001b[1;32m    <a href='file:///home/levigibson/.local/lib/python3.8/site-packages/numpy/lib/format.py?line=745'>746</a>\u001b[0m \u001b[39mtry\u001b[39;00m:\n\u001b[0;32m--> <a href='file:///home/levigibson/.local/lib/python3.8/site-packages/numpy/lib/format.py?line=746'>747</a>\u001b[0m     array \u001b[39m=\u001b[39m pickle\u001b[39m.\u001b[39;49mload(fp, \u001b[39m*\u001b[39;49m\u001b[39m*\u001b[39;49mpickle_kwargs)\n\u001b[1;32m    <a href='file:///home/levigibson/.local/lib/python3.8/site-packages/numpy/lib/format.py?line=747'>748</a>\u001b[0m \u001b[39mexcept\u001b[39;00m \u001b[39mUnicodeError\u001b[39;00m \u001b[39mas\u001b[39;00m err:\n\u001b[1;32m    <a href='file:///home/levigibson/.local/lib/python3.8/site-packages/numpy/lib/format.py?line=748'>749</a>\u001b[0m     \u001b[39m# Friendlier error message\u001b[39;00m\n\u001b[1;32m    <a href='file:///home/levigibson/.local/lib/python3.8/site-packages/numpy/lib/format.py?line=749'>750</a>\u001b[0m     \u001b[39mraise\u001b[39;00m \u001b[39mUnicodeError\u001b[39;00m(\u001b[39m\"\u001b[39m\u001b[39mUnpickling a python object failed: \u001b[39m\u001b[39m%r\u001b[39;00m\u001b[39m\\n\u001b[39;00m\u001b[39m\"\u001b[39m\n\u001b[1;32m    <a href='file:///home/levigibson/.local/lib/python3.8/site-packages/numpy/lib/format.py?line=750'>751</a>\u001b[0m                        \u001b[39m\"\u001b[39m\u001b[39mYou may need to pass the encoding= option \u001b[39m\u001b[39m\"\u001b[39m\n\u001b[1;32m    <a href='file:///home/levigibson/.local/lib/python3.8/site-packages/numpy/lib/format.py?line=751'>752</a>\u001b[0m                        \u001b[39m\"\u001b[39m\u001b[39mto numpy.load\u001b[39m\u001b[39m\"\u001b[39m \u001b[39m%\u001b[39m (err,)) \u001b[39mfrom\u001b[39;00m \u001b[39merr\u001b[39;00m\n",
      "\u001b[0;31mEOFError\u001b[0m: Ran out of input"
     ]
    }
   ],
   "source": [
    "training_generator = DataLoader(64, \"train\")\n",
    "val_generator = DataLoader(64, \"val\")"
   ]
  },
  {
   "cell_type": "code",
   "execution_count": null,
   "metadata": {},
   "outputs": [],
   "source": [
    "lossHistory = []\n",
    "valHistory = []\n",
    "class NnomCallbacks(tf.keras.callbacks.Callback):\n",
    "  def on_batch_end(self, batch, logs=None):\n",
    "    lossHistory.append(logs['loss'])\n",
    "    if batch and batch % 1000 == 0:\n",
    "      pred = self.model.predict(val_generator)\n",
    "      loss = (pred.flatten() - val_generator.labels.flatten()[0:len(val_generator)*64])**2\n",
    "      loss = np.sum(loss) / len(loss)\n",
    "      valHistory.append(loss)\n",
    "\n",
    "      plt.plot(valHistory)\n",
    "      plt.savefig(\"val.png\", dpi=200)\n",
    "      plt.clf()\n",
    "\n",
    "      plt.plot(lossHistory[20:])\n",
    "      plt.savefig(\"loss.png\", dpi=200)\n",
    "      plt.clf()\n",
    "      \n",
    "      print(\" val_loss : {}\".format(loss))\n",
    "\n",
    "      self.model.save(\"models/model-{}-{}\".format(len(valHistory), int(loss*10000)))"
   ]
  },
  {
   "cell_type": "code",
   "execution_count": null,
   "metadata": {},
   "outputs": [],
   "source": [
    "model = Sequential()\n",
    "model.add(Dense(512, activation='relu', input_shape=(98304,)))\n",
    "model.add(Dense(384, activation='sigmoid'))\n",
    "model.compile(optimizer=tf.keras.optimizers.Adam(), loss='categorical_crossentropy', metrics=['accuracy'])"
   ]
  },
  {
   "cell_type": "code",
   "execution_count": null,
   "metadata": {},
   "outputs": [],
   "source": [
    "model = tf.keras.models.load_model(\"production/\")"
   ]
  },
  {
   "cell_type": "code",
   "execution_count": null,
   "metadata": {},
   "outputs": [],
   "source": [
    "model.fit(training_generator, validation_data=val_generator, epochs=1, callbacks=[NnomCallbacks()])"
   ]
  },
  {
   "cell_type": "code",
   "execution_count": null,
   "metadata": {},
   "outputs": [],
   "source": [
    "import time\n",
    "model.save(\"models/model-{}\".format(int(time.time())))"
   ]
  }
 ],
 "metadata": {
  "interpreter": {
   "hash": "916dbcbb3f70747c44a77c7bcd40155683ae19c65e1c03b4aa3499c5328201f1"
  },
  "kernelspec": {
   "display_name": "Python 3.8.10 64-bit",
   "language": "python",
   "name": "python3"
  },
  "language_info": {
   "codemirror_mode": {
    "name": "ipython",
    "version": 3
   },
   "file_extension": ".py",
   "mimetype": "text/x-python",
   "name": "python",
   "nbconvert_exporter": "python",
   "pygments_lexer": "ipython3",
   "version": "3.8.10"
  },
  "orig_nbformat": 4
 },
 "nbformat": 4,
 "nbformat_minor": 2
}
