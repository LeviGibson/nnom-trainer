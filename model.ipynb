{
 "cells": [
  {
   "cell_type": "code",
   "execution_count": 8,
   "metadata": {},
   "outputs": [],
   "source": [
    "import tensorflow as tf\n",
    "from tensorflow.keras.models import Sequential\n",
    "from tensorflow.keras.layers import Dense\n",
    "from tensorflow.keras.activations import relu\n",
    "from DataLoader import DataLoader\n",
    "\n",
    "import numpy as np"
   ]
  },
  {
   "cell_type": "code",
   "execution_count": 9,
   "metadata": {},
   "outputs": [],
   "source": [
    "training_generator = DataLoader(128, \"train\")\n",
    "val_generator = DataLoader(128, \"val\")"
   ]
  },
  {
   "cell_type": "code",
   "execution_count": 10,
   "metadata": {},
   "outputs": [],
   "source": [
    "from keras import backend as K\n",
    "def clipped_relu(x):\n",
    "    return K.relu(x, max_value=2)"
   ]
  },
  {
   "cell_type": "code",
   "execution_count": 13,
   "metadata": {},
   "outputs": [],
   "source": [
    "halfAcc = Dense(256, clipped_relu)\n",
    "i1 = tf.keras.Input((64*64*12,))\n",
    "i2 = tf.keras.Input((64*64*12,))\n",
    "acc1 = halfAcc(i1)\n",
    "acc2 = halfAcc(i2)\n",
    "layerStack = tf.keras.layers.Concatenate()([acc1, acc2])\n",
    "\n",
    "out = Dense(384, 'sigmoid')\n",
    "\n",
    "layerStack = out(layerStack)\n",
    "\n",
    "model = tf.keras.Model(inputs=[i1, i2], outputs=layerStack)\n",
    "\n",
    "model.compile(optimizer=tf.keras.optimizers.Adam(), loss='categorical_crossentropy', metrics=['mae', 'accuracy'])"
   ]
  },
  {
   "cell_type": "code",
   "execution_count": null,
   "metadata": {},
   "outputs": [],
   "source": [
    "model = tf.keras.models.load_model(\"production/\")"
   ]
  },
  {
   "cell_type": "code",
   "execution_count": 14,
   "metadata": {},
   "outputs": [
    {
     "name": "stdout",
     "output_type": "stream",
     "text": [
      "7170/7170 [==============================] - 157s 22ms/step - loss: 4.2619 - mae: 0.0844 - accuracy: 0.1089 - val_loss: 4.0179 - val_mae: 0.0438 - val_accuracy: 0.1301\n"
     ]
    },
    {
     "data": {
      "text/plain": [
       "<keras.callbacks.History at 0x7f33ef2e2730>"
      ]
     },
     "execution_count": 14,
     "metadata": {},
     "output_type": "execute_result"
    }
   ],
   "source": [
    "#9223/9223 [==============================] - 974s 106ms/step - loss: 3.7754 - accuracy: 0.1734 - val_loss: 3.5380 - val_accuracy: 0.1943\n",
    "#9223/9223 [==============================] - 940s 102ms/step - loss: 3.1249 - accuracy: 0.2536 - val_loss: 3.5691 - val_accuracy: 0.2021\n",
    "model.fit(training_generator, validation_data=val_generator, epochs=1)"
   ]
  },
  {
   "cell_type": "code",
   "execution_count": 6,
   "metadata": {},
   "outputs": [
    {
     "name": "stderr",
     "output_type": "stream",
     "text": [
      "2022-03-25 11:51:58.776110: W tensorflow/python/util/util.cc:368] Sets are not currently considered sequences, but this may change in the future, so consider avoiding using them.\n"
     ]
    },
    {
     "name": "stdout",
     "output_type": "stream",
     "text": [
      "INFO:tensorflow:Assets written to: models/model-1648223518/assets\n"
     ]
    }
   ],
   "source": [
    "import time\n",
    "model.save(\"models/model-{}\".format(int(time.time())))"
   ]
  },
  {
   "cell_type": "code",
   "execution_count": 15,
   "metadata": {},
   "outputs": [
    {
     "name": "stderr",
     "output_type": "stream",
     "text": [
      "2022-04-04 11:27:55.888339: W tensorflow/python/util/util.cc:368] Sets are not currently considered sequences, but this may change in the future, so consider avoiding using them.\n"
     ]
    },
    {
     "name": "stdout",
     "output_type": "stream",
     "text": [
      "INFO:tensorflow:Assets written to: production/assets\n"
     ]
    }
   ],
   "source": [
    "model.save(\"production/\")"
   ]
  }
 ],
 "metadata": {
  "interpreter": {
   "hash": "916dbcbb3f70747c44a77c7bcd40155683ae19c65e1c03b4aa3499c5328201f1"
  },
  "kernelspec": {
   "display_name": "Python 3.8.10 64-bit",
   "language": "python",
   "name": "python3"
  },
  "language_info": {
   "codemirror_mode": {
    "name": "ipython",
    "version": 3
   },
   "file_extension": ".py",
   "mimetype": "text/x-python",
   "name": "python",
   "nbconvert_exporter": "python",
   "pygments_lexer": "ipython3",
   "version": "3.8.10"
  },
  "orig_nbformat": 4
 },
 "nbformat": 4,
 "nbformat_minor": 2
}
